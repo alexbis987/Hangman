{
 "cells": [
  {
   "cell_type": "raw",
   "metadata": {},
   "source": [
    "import random "
   ]
  },
  {
   "cell_type": "code",
   "execution_count": null,
   "metadata": {
    "collapsed": false
   },
   "outputs": [],
   "source": [
    "import random\n",
    "\n",
    "board = [\n",
    "'  +---+   \\n  |   |   \\n      |   \\n      |   \\n      |   \\n      |   \\n========= \\n',\n",
    "'  +---+   \\n  |   |   \\n  0   |   \\n      |   \\n      |   \\n      |   \\n========= \\n',\n",
    "'  +---+   \\n  |   |   \\n  0   |   \\n  |   |   \\n      |   \\n      |   \\n========= \\n',\n",
    "'  +---+   \\n  |   |   \\n  0   |   \\n /|   |   \\n      |   \\n      |   \\n========= \\n',\n",
    "'  +---+   \\n  |   |   \\n  0   |   \\n /|\\\\  |   \\n      |   \\n      |   \\n========= \\n',\n",
    "'  +---+   \\n  |   |   \\n  0   |   \\n /|\\\\  |   \\n /    |   \\n      |   \\n========= \\n',\n",
    "'  +---+   \\n  |   |   \\n  0   |   \\n /|\\\\  |   \\n / \\\\  |   \\n      |   \\n========= \\n'\n",
    "]\n",
    "\n",
    "class Hangman:\n",
    "\tdef __init__(self,word):\n",
    "\t\tself.word = word\n",
    "\t\tself.missed_letters = []\n",
    "\t\tself.guessed_letters = []\n",
    "\t\t\n",
    "\tdef guess(self,letter):\n",
    "\t\tif letter in self.word and letter not in self.guessed_letters:\n",
    "\t\t\tself.guessed_letters.append(letter)\n",
    "\t\telif letter not in self.word and letter not in self.missed_letters:\n",
    "\t\t\tself.missed_letters.append(letter)\n",
    "\t\telse:\n",
    "\t\t\treturn False\n",
    "\t\treturn True\n",
    "\t\t\n",
    "\tdef hangman_over(self):\n",
    "\t\treturn self.hangman_won() or (len(self.missed_letters) == 6)\n",
    "\t\t\n",
    "\tdef hangman_won(self):\n",
    "\t\tif '_' not in self.hide_word():\n",
    "\t\t\treturn True\n",
    "\t\treturn False\n",
    "\t\t\n",
    "\tdef hide_word(self):\n",
    "\t\trtn = ''\n",
    "\t\tfor letter in self.word:\n",
    "\t\t\tif letter not in self.guessed_letters:\n",
    "\t\t\t\trtn += '_'\n",
    "\t\t\telse:\n",
    "\t\t\t\trtn += letter\n",
    "\t\treturn rtn\n",
    "\t\t\n",
    "\tdef print_game_status(self):\n",
    "\t\tprint (board[len(self.missed_letters)])\n",
    "\t\tprint ('Word: ' + self.hide_word())\n",
    "\t\tprint ('Letters Missed: ',) \n",
    "\t\tfor letter in self.missed_letters:\n",
    "\t\t\tprint (letter,)\n",
    "\t\tprint \n",
    "\t\tprint ('Letters Guessed: ',)\n",
    "\t\tfor letter in self.guessed_letters:\n",
    "\t\t\tprint (letter,)\n",
    "\t\tprint \n",
    "\n",
    "def rand_word():\n",
    "\t\n",
    "\tbank = ['the','living','pearl','.com','captain','deadbones', 'international', 'running']\n",
    "\treturn (bank[random.randint(0,len(bank))])\n",
    "\n",
    "def main():\n",
    "\t\n",
    "\tgame = Hangman(rand_word())\n",
    "\twhile not game.hangman_over():\n",
    "\t\tgame.print_game_status()\n",
    "\t\tuser_input = input('\\n Enter a letter: ')\n",
    "\t\tgame.guess(user_input)\n",
    "\n",
    "\tgame.print_game_status()\t\n",
    "\tif game.hangman_won():\n",
    "\t\tprint ('\\nCongratulations! You are the winner of Hangman!')\n",
    "\telse:\n",
    "\t\tprint ('\\nSorry, you have lost in the game of Hangman...')\n",
    "\t\tprint ('The word was ' + game.word)\n",
    "\t\t\n",
    "\tprint ('\\nGoodbye!\\n')\n",
    "\t\t\n",
    "if __name__ == \"__main__\":\n",
    "\tmain()\n",
    "\t\n",
    "\t\n"
   ]
  },
  {
   "cell_type": "code",
   "execution_count": null,
   "metadata": {
    "collapsed": true
   },
   "outputs": [],
   "source": [
    "def guess(self,letter):\n",
    "\t\tif letter in self.word and letter not in self.guessed_letters:\n",
    "\t\t\tself.guessed_letters.append(letter)\n",
    "\t\telif letter not in self.word and letter not in self.missed_letters:\n",
    "\t\t\tself.missed_letters.append(letter)\n",
    "\t\telse:\n",
    "\t\t\treturn False\n",
    "\t\treturn True\n",
    "    \n",
    "    \n",
    "    "
   ]
  },
  {
   "cell_type": "code",
   "execution_count": null,
   "metadata": {
    "collapsed": true
   },
   "outputs": [],
   "source": [
    "def convert_f2c(S):\n",
    "    \"\"\"(str): float\n",
    "\n",
    "    Converts a Fahrenheit temperature represented as a string\n",
    "    to a Celsius temperature.\n",
    "    \"\"\"\n",
    "    fahrenheit = float(S)\n",
    "    celsius = (fahrenheit - 32) * 5 / 9\n",
    "    return celsius\n",
    "\n",
    "def main():\n",
    "    # If no arguments were given, print a helpful message\n",
    "    if len(sys.argv) == 1:\n",
    "        print('Usage: {} temp1 temp2 ...'.format(sys.argv[0]))\n",
    "        sys.exit(0)\n",
    "\n",
    "    # Loop over the arguments\n",
    "    for arg in sys.argv[1:]:\n",
    "        try:\n",
    "            celsius = convert_f2c(arg)\n",
    "        except ValueError:\n",
    "            print(\"{!r} is not a numeric value\".format(arg),\n",
    "                  file=sys.stderr)\n",
    "        else:\n",
    "            print('{}\\N{DEGREE SIGN}F = {:g}\\N{DEGREE SIGN}C'.format(\n",
    "                    arg, round(celsius, 0)))\n",
    "\n",
    "if __name__ == '__main__':\n",
    "    main()"
   ]
  },
  {
   "cell_type": "code",
   "execution_count": null,
   "metadata": {
    "collapsed": true
   },
   "outputs": [],
   "source": [
    "import sys"
   ]
  },
  {
   "cell_type": "code",
   "execution_count": null,
   "metadata": {
    "collapsed": true
   },
   "outputs": [],
   "source": [
    "\n",
    "def convert_f2c(S):\n",
    "    (str): float\n",
    "\n",
    "    \"\"\" Converts a Fahrenheit temperature represented as a string\n",
    "    to a Celsius temperature. \"\"\"\n",
    "    \n",
    "    fahrenheit = float(S)\n",
    "    celsius = (fahrenheit - 32) * 5 / 9\n",
    "    return celsius\n",
    "\n",
    "def main():\n",
    "    # If no arguments were given, print a helpful message\n",
    "    if len(sys.argv) == 1:\n",
    "        print('Usage: {} temp1 temp2 ...'.format(sys.argv[0]))\n",
    "        sys.exit(0)\n",
    "\n",
    "    # Loop over the arguments\n",
    "    for arg in sys.argv[1:]:\n",
    "        try:\n",
    "            celsius = convert_f2c(arg)\n",
    "        except ValueError:\n",
    "            print(\"{!r} is not a numeric value\".format(arg),\n",
    "                  file=sys.stderr)\n",
    "        else:\n",
    "            print('{}\\N{DEGREE SIGN}F = {:g}\\N{DEGREE SIGN}C'.format(\n",
    "                    arg, round(celsius, 0)))\n",
    "\n",
    "if __name__ == '__main__':\n",
    "    main()"
   ]
  },
  {
   "cell_type": "code",
   "execution_count": null,
   "metadata": {
    "collapsed": true
   },
   "outputs": [],
   "source": [
    "\n",
    "def convert_f2c(S):\n",
    "    (str): float\n",
    "\n",
    "    \"\"\" Converts a Fahrenheit temperature represented as a string\n",
    "    to a Celsius temperature. \"\"\"\n",
    "    \n",
    "    fahrenheit = float(S)\n",
    "    celsius = (fahrenheit - 32) * 5 / 9\n",
    "    return celsius"
   ]
  },
  {
   "cell_type": "code",
   "execution_count": null,
   "metadata": {
    "collapsed": true
   },
   "outputs": [],
   "source": []
  }
 ],
 "metadata": {
  "anaconda-cloud": {},
  "kernelspec": {
   "display_name": "Python [conda root]",
   "language": "python",
   "name": "conda-root-py"
  },
  "language_info": {
   "codemirror_mode": {
    "name": "ipython",
    "version": 3
   },
   "file_extension": ".py",
   "mimetype": "text/x-python",
   "name": "python",
   "nbconvert_exporter": "python",
   "pygments_lexer": "ipython3",
   "version": "3.5.2"
  }
 },
 "nbformat": 4,
 "nbformat_minor": 1
}
